{
 "cells": [
  {
   "cell_type": "markdown",
   "id": "acdef8bd",
   "metadata": {},
   "source": [
    "# BGR 2"
   ]
  },
  {
   "cell_type": "code",
   "execution_count": null,
   "id": "067a79ae",
   "metadata": {},
   "outputs": [],
   "source": [
    "import cv2\n",
    "import numpy as pd"
   ]
  },
  {
   "cell_type": "code",
   "execution_count": 2,
   "id": "37ad324e",
   "metadata": {},
   "outputs": [],
   "source": [
    "resim= cv2.imread(\"siyahekran.jpg\")"
   ]
  },
  {
   "cell_type": "code",
   "execution_count": 4,
   "id": "8369c40b",
   "metadata": {},
   "outputs": [],
   "source": [
    "resim[70,40]= [255,255,255] #Resmin sol üst köşesinden itibaren 70 aşağı 40 sola konumunu beyaz yaptık"
   ]
  },
  {
   "cell_type": "code",
   "execution_count": 5,
   "id": "c11c6dbe",
   "metadata": {},
   "outputs": [],
   "source": [
    "#belirli bir bölgeden başlayıp belirli bit kısıma for döngüsünü kullanarak boyama yapabilirizz\n",
    "for i in range(100):\n",
    "    resim[50,i]= [100,90,142]"
   ]
  },
  {
   "cell_type": "code",
   "execution_count": 6,
   "id": "b2bbe8f0",
   "metadata": {},
   "outputs": [],
   "source": [
    "cv2.imshow(\"Şekil :\",resim)"
   ]
  },
  {
   "cell_type": "code",
   "execution_count": null,
   "id": "889cccf1",
   "metadata": {},
   "outputs": [],
   "source": [
    "cv2.waitKey(0)\n",
    "cv2.destroyAllWindows()"
   ]
  },
  {
   "cell_type": "code",
   "execution_count": null,
   "id": "9bc4b4cb",
   "metadata": {},
   "outputs": [],
   "source": []
  },
  {
   "cell_type": "code",
   "execution_count": null,
   "id": "3b9c36b3",
   "metadata": {},
   "outputs": [],
   "source": []
  }
 ],
 "metadata": {
  "kernelspec": {
   "display_name": "Python 3 (ipykernel)",
   "language": "python",
   "name": "python3"
  },
  "language_info": {
   "codemirror_mode": {
    "name": "ipython",
    "version": 3
   },
   "file_extension": ".py",
   "mimetype": "text/x-python",
   "name": "python",
   "nbconvert_exporter": "python",
   "pygments_lexer": "ipython3",
   "version": "3.9.7"
  }
 },
 "nbformat": 4,
 "nbformat_minor": 5
}
