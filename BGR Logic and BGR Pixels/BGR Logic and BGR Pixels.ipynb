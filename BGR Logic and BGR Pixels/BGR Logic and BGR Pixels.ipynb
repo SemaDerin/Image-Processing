{
 "cells": [
  {
   "cell_type": "markdown",
   "id": "717bf0bd",
   "metadata": {},
   "source": [
    "# BGR LOGIC"
   ]
  },
  {
   "cell_type": "code",
   "execution_count": 30,
   "id": "f9e25abf",
   "metadata": {},
   "outputs": [],
   "source": [
    "import cv2 \n",
    "import numpy as np"
   ]
  },
  {
   "cell_type": "code",
   "execution_count": 31,
   "id": "6c48fbd6",
   "metadata": {},
   "outputs": [],
   "source": [
    "#image.jpg resmini okuyup newYork isimli değişkene atadık.\n",
    "newYork = cv2.imread(\"image.jpg\")  "
   ]
  },
  {
   "cell_type": "code",
   "execution_count": 32,
   "id": "55ea8d43",
   "metadata": {},
   "outputs": [],
   "source": [
    "#Resmin ekranda görüntülenmesini sağladık.\n",
    "cv2.imshow(\"NewYork City\", newYork ) "
   ]
  },
  {
   "cell_type": "code",
   "execution_count": 35,
   "id": "fe49b637",
   "metadata": {},
   "outputs": [
    {
     "name": "stdout",
     "output_type": "stream",
     "text": [
      "[[[231 200 167]\n",
      "  [230 199 166]\n",
      "  [229 198 165]\n",
      "  ...\n",
      "  [237 222 203]\n",
      "  [237 222 203]\n",
      "  [238 223 204]]\n",
      "\n",
      " [[237 206 173]\n",
      "  [237 206 173]\n",
      "  [236 205 172]\n",
      "  ...\n",
      "  [231 216 197]\n",
      "  [231 216 197]\n",
      "  [232 217 198]]\n",
      "\n",
      " [[237 209 175]\n",
      "  [236 208 174]\n",
      "  [235 207 173]\n",
      "  ...\n",
      "  [229 211 194]\n",
      "  [230 212 195]\n",
      "  [231 213 196]]\n",
      "\n",
      " ...\n",
      "\n",
      " [[196 190 185]\n",
      "  [192 188 183]\n",
      "  [195 192 187]\n",
      "  ...\n",
      "  [ 53  55  56]\n",
      "  [ 49  51  52]\n",
      "  [ 56  58  59]]\n",
      "\n",
      " [[190 194 188]\n",
      "  [192 196 190]\n",
      "  [194 194 188]\n",
      "  ...\n",
      "  [ 67  68  72]\n",
      "  [ 36  37  41]\n",
      "  [ 17  18  22]]\n",
      "\n",
      " [[192 203 195]\n",
      "  [186 194 187]\n",
      "  [192 192 186]\n",
      "  ...\n",
      "  [ 74  75  79]\n",
      "  [118 119 123]\n",
      "  [138 139 143]]]\n"
     ]
    }
   ],
   "source": [
    "print(newYork) #Resmin Matris Görünümünü elde etmek için:"
   ]
  },
  {
   "cell_type": "markdown",
   "id": "eaad3da6",
   "metadata": {},
   "source": [
    "# # BGR-PIXSEL"
   ]
  },
  {
   "cell_type": "code",
   "execution_count": 2,
   "id": "6d823184",
   "metadata": {},
   "outputs": [],
   "source": [
    "newYork= cv2.imread(\"image.jpg\")"
   ]
  },
  {
   "cell_type": "code",
   "execution_count": 3,
   "id": "243728df",
   "metadata": {},
   "outputs": [],
   "source": [
    "cv2.imshow(\"New York City\",newYork )"
   ]
  },
  {
   "cell_type": "code",
   "execution_count": 4,
   "id": "6f35c404",
   "metadata": {},
   "outputs": [
    {
     "name": "stdout",
     "output_type": "stream",
     "text": [
      "[240 230 220]\n"
     ]
    }
   ],
   "source": [
    "#Bgr değerlerini görmek için\n",
    "print(newYork[(150,90)])"
   ]
  },
  {
   "cell_type": "code",
   "execution_count": 5,
   "id": "302e8d6b",
   "metadata": {},
   "outputs": [],
   "source": [
    "#Resmin aşağı doğru 150, sağa doğru 80 pixel değerini belirtmiş olduk. Çıktıda ilgili pikselin BGR değerlerini görürüz."
   ]
  },
  {
   "cell_type": "code",
   "execution_count": 7,
   "id": "fa94ed28",
   "metadata": {},
   "outputs": [
    {
     "name": "stdout",
     "output_type": "stream",
     "text": [
      "Resmin boyutu: 2880000\n"
     ]
    }
   ],
   "source": [
    "print(\"Resmin boyutu: \" + str(newYork.size))  #print de string ifade yazdığımız için stringe çevirdik.c# ın tersine\n"
   ]
  },
  {
   "cell_type": "code",
   "execution_count": 8,
   "id": "d763f15a",
   "metadata": {},
   "outputs": [
    {
     "name": "stdout",
     "output_type": "stream",
     "text": [
      "2880000\n"
     ]
    }
   ],
   "source": [
    "print(newYork.size) #Bu şekilde de görüntüleyebiliyoruz."
   ]
  },
  {
   "cell_type": "code",
   "execution_count": 9,
   "id": "ca1e8dba",
   "metadata": {},
   "outputs": [
    {
     "name": "stdout",
     "output_type": "stream",
     "text": [
      "(800, 1200, 3)\n"
     ]
    }
   ],
   "source": [
    "print(newYork.shape) #Resmimizin de özelliklerini bu şekilde görüntüleyebilriz."
   ]
  },
  {
   "cell_type": "code",
   "execution_count": 11,
   "id": "a7795902",
   "metadata": {},
   "outputs": [
    {
     "name": "stdout",
     "output_type": "stream",
     "text": [
      "Resmin özellikleri: 2880000\n"
     ]
    }
   ],
   "source": [
    "print(\"Resmin özellikleri: \"+ str(newYork.size)) #Str olarak belirtmek sebebimizi yukarıda belirttik\n"
   ]
  },
  {
   "cell_type": "code",
   "execution_count": 14,
   "id": "a45cb34f",
   "metadata": {},
   "outputs": [
    {
     "name": "stdout",
     "output_type": "stream",
     "text": [
      "uint8\n"
     ]
    }
   ],
   "source": [
    "print(newYork.dtype) #Son olarak da veri tipini görelim!"
   ]
  },
  {
   "cell_type": "code",
   "execution_count": 16,
   "id": "1c6e171c",
   "metadata": {},
   "outputs": [
    {
     "name": "stdout",
     "output_type": "stream",
     "text": [
      "Resimin veri tipi: uint8\n"
     ]
    }
   ],
   "source": [
    "print(\"Resimin veri tipi: \"+ str(newYork.dtype))"
   ]
  },
  {
   "cell_type": "code",
   "execution_count": null,
   "id": "91d511c2",
   "metadata": {},
   "outputs": [],
   "source": []
  },
  {
   "cell_type": "code",
   "execution_count": 17,
   "id": "7b4d4423",
   "metadata": {},
   "outputs": [],
   "source": [
    "cv2.waitKey(0)\n",
    "cv2.destroyAllWindows()"
   ]
  },
  {
   "cell_type": "code",
   "execution_count": null,
   "id": "318c157e",
   "metadata": {},
   "outputs": [],
   "source": []
  }
 ],
 "metadata": {
  "kernelspec": {
   "display_name": "Python 3 (ipykernel)",
   "language": "python",
   "name": "python3"
  },
  "language_info": {
   "codemirror_mode": {
    "name": "ipython",
    "version": 3
   },
   "file_extension": ".py",
   "mimetype": "text/x-python",
   "name": "python",
   "nbconvert_exporter": "python",
   "pygments_lexer": "ipython3",
   "version": "3.9.7"
  }
 },
 "nbformat": 4,
 "nbformat_minor": 5
}
