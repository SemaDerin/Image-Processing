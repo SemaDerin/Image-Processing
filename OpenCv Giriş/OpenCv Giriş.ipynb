{
 "cells": [
  {
   "cell_type": "markdown",
   "id": "1d31348e",
   "metadata": {},
   "source": [
    "# OpenCv Kodları \n"
   ]
  },
  {
   "cell_type": "code",
   "execution_count": 1,
   "id": "b198ac14",
   "metadata": {},
   "outputs": [],
   "source": [
    "import cv2"
   ]
  },
  {
   "cell_type": "code",
   "execution_count": 2,
   "id": "34b358b1",
   "metadata": {},
   "outputs": [],
   "source": [
    "#Resimi okutalım istersek ; imread() methodu kullanacağız!\n",
    "resim1= cv2.imread(\"image.jpg\")"
   ]
  },
  {
   "cell_type": "code",
   "execution_count": 3,
   "id": "37cf0a75",
   "metadata": {},
   "outputs": [],
   "source": [
    "#Resimi iki kanallı hale getirelim( grileştirme )\n",
    "resim1= cv2.imread(\"image.jpg\", 0)"
   ]
  },
  {
   "cell_type": "code",
   "execution_count": 4,
   "id": "35ff8cfd",
   "metadata": {},
   "outputs": [],
   "source": [
    "#Görselleştirmek istersek imshow() methodunu kullanıyoruz!\n",
    "cv2.imshow(\"Newyork City\",resim1)"
   ]
  },
  {
   "cell_type": "code",
   "execution_count": 5,
   "id": "2c9a213d",
   "metadata": {},
   "outputs": [
    {
     "name": "stdout",
     "output_type": "stream",
     "text": [
      "960000\n"
     ]
    }
   ],
   "source": [
    "#Resmin boyutunu görelim\n",
    "print(resim1.size)"
   ]
  },
  {
   "cell_type": "code",
   "execution_count": 6,
   "id": "93247e93",
   "metadata": {},
   "outputs": [
    {
     "name": "stdout",
     "output_type": "stream",
     "text": [
      "uint8\n"
     ]
    }
   ],
   "source": [
    "#Resimin tipini öğrenelim\n",
    "print(resim1.dtype)\n"
   ]
  },
  {
   "cell_type": "code",
   "execution_count": 7,
   "id": "eccf3884",
   "metadata": {},
   "outputs": [
    {
     "name": "stdout",
     "output_type": "stream",
     "text": [
      "(800, 1200)\n"
     ]
    }
   ],
   "source": [
    "#Resimin genişliğini, yüksekliğini ve kaç kanaldan oluştuğunu öğrenelim\n",
    "print(resim1.shape)\n"
   ]
  },
  {
   "cell_type": "code",
   "execution_count": null,
   "id": "ac2f5bab",
   "metadata": {},
   "outputs": [],
   "source": []
  }
 ],
 "metadata": {
  "kernelspec": {
   "display_name": "Python 3 (ipykernel)",
   "language": "python",
   "name": "python3"
  },
  "language_info": {
   "codemirror_mode": {
    "name": "ipython",
    "version": 3
   },
   "file_extension": ".py",
   "mimetype": "text/x-python",
   "name": "python",
   "nbconvert_exporter": "python",
   "pygments_lexer": "ipython3",
   "version": "3.9.7"
  }
 },
 "nbformat": 4,
 "nbformat_minor": 5
}
