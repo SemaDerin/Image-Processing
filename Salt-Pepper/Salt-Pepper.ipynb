{
 "cells": [
  {
   "cell_type": "code",
   "execution_count": 2,
   "id": "9273e225",
   "metadata": {},
   "outputs": [],
   "source": [
    "import cv2 \n",
    "import numpy as np\n",
    "import matplotlib.pyplot as plt \n"
   ]
  },
  {
   "cell_type": "code",
   "execution_count": 6,
   "id": "81ee94f7",
   "metadata": {},
   "outputs": [
    {
     "ename": "TypeError",
     "evalue": "unsupported operand type(s) for /: 'NoneType' and 'int'",
     "output_type": "error",
     "traceback": [
      "\u001b[1;31m---------------------------------------------------------------------------\u001b[0m",
      "\u001b[1;31mTypeError\u001b[0m                                 Traceback (most recent call last)",
      "Cell \u001b[1;32mIn [6], line 6\u001b[0m\n\u001b[0;32m      4\u001b[0m \u001b[38;5;66;03m# orginal image\u001b[39;00m\n\u001b[0;32m      5\u001b[0m img \u001b[38;5;241m=\u001b[39m cv2\u001b[38;5;241m.\u001b[39mimread(\u001b[38;5;124m'\u001b[39m\u001b[38;5;124mimage.png\u001b[39m\u001b[38;5;124m'\u001b[39m,\u001b[38;5;241m0\u001b[39m)\n\u001b[1;32m----> 6\u001b[0m img \u001b[38;5;241m=\u001b[39m (\u001b[43mimg\u001b[49m\u001b[38;5;241;43m/\u001b[39;49m\u001b[38;5;241;43m255\u001b[39;49m)\n\u001b[0;32m      8\u001b[0m cv2\u001b[38;5;241m.\u001b[39mimshow(\u001b[38;5;124m'\u001b[39m\u001b[38;5;124moriginal image\u001b[39m\u001b[38;5;124m'\u001b[39m, img)\n\u001b[0;32m      9\u001b[0m cv2\u001b[38;5;241m.\u001b[39mwaitKey(\u001b[38;5;241m0\u001b[39m)\n",
      "\u001b[1;31mTypeError\u001b[0m: unsupported operand type(s) for /: 'NoneType' and 'int'"
     ]
    }
   ],
   "source": [
    "import cv2\n",
    "import numpy as np\n",
    "\n",
    "# orginal image\n",
    "img = cv2.imread('image.png',0)\n",
    "img = (img/255)\n",
    "\n",
    "cv2.imshow('original image', img)\n",
    "cv2.waitKey(0)\n",
    "cv2.destroyAllWindows()\n",
    "\n",
    "# blank image\n",
    "x,y = img.shape\n",
    "g = np.zeros((x,y), dtype=np.float32)\n",
    "\n",
    "# salt and pepper amount\n",
    "pepper = 0.1\n",
    "salt = 0.95\n",
    "\n",
    "# create salt and peper noise image    \n",
    "for i in range(x):\n",
    "    for j in range(y):\n",
    "        rdn = np.random.random()\n",
    "        if rdn < pepper:\n",
    "            g[i][j] = 0\n",
    "        elif rdn > salt:\n",
    "            g[i][j] = 1\n",
    "        else:\n",
    "            g[i][j] = img[i][j]\n",
    "\n",
    "cv2.imshow('image with noise', g)\n",
    "cv2.waitKey(0)\n",
    "cv2.destroyAllWindows()\n",
    "\n",
    "# (optional) save the image\n",
    "from skimage import img_as_ubyte\n",
    "cv2.imwrite('5percent.jpg', img_as_ubyte(g))"
   ]
  },
  {
   "cell_type": "code",
   "execution_count": null,
   "id": "7f920b53",
   "metadata": {},
   "outputs": [],
   "source": []
  },
  {
   "cell_type": "code",
   "execution_count": null,
   "id": "6eeb6d58",
   "metadata": {},
   "outputs": [],
   "source": []
  }
 ],
 "metadata": {
  "kernelspec": {
   "display_name": "Python 3 (ipykernel)",
   "language": "python",
   "name": "python3"
  },
  "language_info": {
   "codemirror_mode": {
    "name": "ipython",
    "version": 3
   },
   "file_extension": ".py",
   "mimetype": "text/x-python",
   "name": "python",
   "nbconvert_exporter": "python",
   "pygments_lexer": "ipython3",
   "version": "3.9.7"
  }
 },
 "nbformat": 4,
 "nbformat_minor": 5
}
