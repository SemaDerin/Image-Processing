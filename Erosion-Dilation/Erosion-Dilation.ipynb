{
 "cells": [
  {
   "cell_type": "code",
   "execution_count": 10,
   "id": "05eecedf",
   "metadata": {},
   "outputs": [],
   "source": [
    "import cv2\n",
    "import numpy as np\n"
   ]
  },
  {
   "cell_type": "code",
   "execution_count": 11,
   "id": "bbf79fb4",
   "metadata": {},
   "outputs": [],
   "source": [
    "img= cv2.imread(\"foto.png\", 0)"
   ]
  },
  {
   "cell_type": "code",
   "execution_count": 12,
   "id": "777363e3",
   "metadata": {},
   "outputs": [],
   "source": [
    "kernel= np.ones((5,5), np.uint8)"
   ]
  },
  {
   "cell_type": "code",
   "execution_count": 13,
   "id": "07a6db7d",
   "metadata": {},
   "outputs": [],
   "source": [
    "img_erosion= cv2.erode(img, kernel, iterations=1)"
   ]
  },
  {
   "cell_type": "code",
   "execution_count": 14,
   "id": "0e95b875",
   "metadata": {},
   "outputs": [],
   "source": [
    "img_dilation= cv2.dilate(img,kernel,iterations=1)"
   ]
  },
  {
   "cell_type": "code",
   "execution_count": 15,
   "id": "f88574b4",
   "metadata": {},
   "outputs": [],
   "source": [
    "cv2.imshow('Input' ,img)"
   ]
  },
  {
   "cell_type": "code",
   "execution_count": 16,
   "id": "a02634de",
   "metadata": {},
   "outputs": [],
   "source": [
    "cv2.imshow('Erosion',img_erosion)"
   ]
  },
  {
   "cell_type": "code",
   "execution_count": 17,
   "id": "b1fa42e7",
   "metadata": {},
   "outputs": [],
   "source": [
    "cv2.imshow('Dilation',img_dilation)"
   ]
  },
  {
   "cell_type": "code",
   "execution_count": null,
   "id": "7173c41e",
   "metadata": {},
   "outputs": [],
   "source": [
    "cv2.waitKey(0)"
   ]
  }
 ],
 "metadata": {
  "kernelspec": {
   "display_name": "Python 3 (ipykernel)",
   "language": "python",
   "name": "python3"
  },
  "language_info": {
   "codemirror_mode": {
    "name": "ipython",
    "version": 3
   },
   "file_extension": ".py",
   "mimetype": "text/x-python",
   "name": "python",
   "nbconvert_exporter": "python",
   "pygments_lexer": "ipython3",
   "version": "3.9.7"
  }
 },
 "nbformat": 4,
 "nbformat_minor": 5
}
