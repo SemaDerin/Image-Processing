{
 "cells": [
  {
   "cell_type": "code",
   "execution_count": 1,
   "id": "fcea686b",
   "metadata": {},
   "outputs": [],
   "source": [
    "import cv2\n",
    "import numpy as np\n"
   ]
  },
  {
   "cell_type": "code",
   "execution_count": 2,
   "id": "9131d9ed",
   "metadata": {},
   "outputs": [],
   "source": [
    "#image path\n",
    "path= r\"image.jpg\""
   ]
  },
  {
   "cell_type": "code",
   "execution_count": 3,
   "id": "401c0ca1",
   "metadata": {},
   "outputs": [],
   "source": [
    "#using imread\n",
    "img= cv2.imread(path)"
   ]
  },
  {
   "cell_type": "code",
   "execution_count": 4,
   "id": "6cd05908",
   "metadata": {},
   "outputs": [],
   "source": [
    "img1= cv2.blur(img,(5,5))\n",
    "img2=cv2.boxFilter(img,-1,(2,2),normalize=True)"
   ]
  },
  {
   "cell_type": "code",
   "execution_count": null,
   "id": "6f72c0f2",
   "metadata": {},
   "outputs": [],
   "source": [
    "cv2.imhow(\"image\",np.hstack((im1,im2)))\n",
    "cv2.waitKey(0);\n",
    "cv2.destroyAllWindows();\n",
    "cv2.waitKey(1)"
   ]
  }
 ],
 "metadata": {
  "kernelspec": {
   "display_name": "Python 3 (ipykernel)",
   "language": "python",
   "name": "python3"
  },
  "language_info": {
   "codemirror_mode": {
    "name": "ipython",
    "version": 3
   },
   "file_extension": ".py",
   "mimetype": "text/x-python",
   "name": "python",
   "nbconvert_exporter": "python",
   "pygments_lexer": "ipython3",
   "version": "3.9.7"
  }
 },
 "nbformat": 4,
 "nbformat_minor": 5
}
