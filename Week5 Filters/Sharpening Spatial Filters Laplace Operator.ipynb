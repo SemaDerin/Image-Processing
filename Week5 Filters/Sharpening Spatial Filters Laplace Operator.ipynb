{
 "cells": [
  {
   "cell_type": "code",
   "execution_count": 1,
   "id": "66da0f45",
   "metadata": {},
   "outputs": [],
   "source": [
    "import sys\n",
    "import cv2 as cv"
   ]
  },
  {
   "cell_type": "code",
   "execution_count": 7,
   "id": "5fe24d1a",
   "metadata": {},
   "outputs": [],
   "source": [
    "def main(argv):\n",
    "    #[variables]\n",
    "    #declare the variables we are going to use\n",
    "    ddepth= cv.CV_16S\n",
    "    kernel_size= 3\n",
    "    window_name= \"Laplace Demo\"\n",
    "    #[variables]\n",
    "    #[Load]\n",
    "    imageName= argv[0] if len(argv)>0 else \"image.jpg\"\n",
    "    src= cv.imread(cv.samples.findFile(imageName),cv.IMERAD_COLOR)\n",
    "    if src in None:\n",
    "        print(\"error opening image\")\n",
    "        print(\"Program arguments: [image_name-----default image.jpg]\")\n",
    "        return -1\n",
    "    #[load]\n",
    "    #reduce Noise\n",
    "    #remove noise by bluring with a Gaussian Filter\n",
    "    src= cv.GaussianBlur(src,(3,3),0)\n",
    "    #reduce noise\n",
    "    \n",
    "    \n",
    "    #convert to gray\n",
    "    #convert the iamge to grayscale\n",
    "    src_gray= cv.cvtColor(src, cv.COLOR_BGR2GRAY)\n",
    "    #convert to gray\n",
    "    \n",
    "    \n",
    "    #Create Window\n",
    "    cv.nameWindow(window_name,cv.WINDOW_AUTOSIZE)\n",
    "    \n",
    "    \n",
    "    #laplacian\n",
    "    #Apply laplace Function\n",
    "    dst= cv.Laplacian(src_gray, ddepth, ksize=kernel_size)\n",
    "    #laplacian\n",
    "    \n",
    "    \n",
    "    #convert\n",
    "    #converting back to uint8\n",
    "    abs_dst=cv.convertScaleAbs(dst)\n",
    "    #Convert\n",
    "    \n",
    "    \n",
    "    #display\n",
    "    cv.imhow(window_name,abs_dst)\n",
    "    cv.waitKey(0)\n",
    "    #display\n",
    "    \n",
    "    return 0\n",
    "\n",
    "    \n"
   ]
  },
  {
   "cell_type": "code",
   "execution_count": null,
   "id": "a83a0248",
   "metadata": {},
   "outputs": [],
   "source": [
    "\n"
   ]
  },
  {
   "cell_type": "code",
   "execution_count": null,
   "id": "640066c0",
   "metadata": {},
   "outputs": [],
   "source": []
  }
 ],
 "metadata": {
  "kernelspec": {
   "display_name": "Python 3 (ipykernel)",
   "language": "python",
   "name": "python3"
  },
  "language_info": {
   "codemirror_mode": {
    "name": "ipython",
    "version": 3
   },
   "file_extension": ".py",
   "mimetype": "text/x-python",
   "name": "python",
   "nbconvert_exporter": "python",
   "pygments_lexer": "ipython3",
   "version": "3.9.7"
  }
 },
 "nbformat": 4,
 "nbformat_minor": 5
}
