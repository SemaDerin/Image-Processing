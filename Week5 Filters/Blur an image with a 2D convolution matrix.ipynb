{
 "cells": [
  {
   "cell_type": "code",
   "execution_count": 1,
   "id": "506106d7",
   "metadata": {},
   "outputs": [],
   "source": [
    "import cv2\n",
    "import numpy as np"
   ]
  },
  {
   "cell_type": "code",
   "execution_count": 2,
   "id": "82170b15",
   "metadata": {},
   "outputs": [],
   "source": [
    "#Reading the iamge \n",
    "image=cv2.imread(\"image.jpg\")"
   ]
  },
  {
   "cell_type": "code",
   "execution_count": 3,
   "id": "52e7a9b9",
   "metadata": {},
   "outputs": [],
   "source": [
    "#creating the kernel (2d convolution matris)\n",
    "kernel1= np.ones((5,5),np.float32)/30"
   ]
  },
  {
   "cell_type": "code",
   "execution_count": 5,
   "id": "91e8d56f",
   "metadata": {},
   "outputs": [],
   "source": [
    "#Applying the filter2d() function\n",
    "img= cv2.filter2D(src=image, ddepth=-1, kernel=kernel1)"
   ]
  },
  {
   "cell_type": "code",
   "execution_count": 7,
   "id": "0c1f74c8",
   "metadata": {},
   "outputs": [],
   "source": [
    "#shoeing the original and output image\n",
    "cv2.imshow(\"original\" ,image)\n",
    "cv2.imshow(\"kernel Blur\",img)\n"
   ]
  },
  {
   "cell_type": "code",
   "execution_count": null,
   "id": "445bc56c",
   "metadata": {},
   "outputs": [],
   "source": [
    "cv2.waitKey()\n",
    "cv2.destroyAllWindows()"
   ]
  },
  {
   "cell_type": "code",
   "execution_count": null,
   "id": "5850c7d2",
   "metadata": {},
   "outputs": [],
   "source": []
  }
 ],
 "metadata": {
  "kernelspec": {
   "display_name": "Python 3 (ipykernel)",
   "language": "python",
   "name": "python3"
  },
  "language_info": {
   "codemirror_mode": {
    "name": "ipython",
    "version": 3
   },
   "file_extension": ".py",
   "mimetype": "text/x-python",
   "name": "python",
   "nbconvert_exporter": "python",
   "pygments_lexer": "ipython3",
   "version": "3.9.7"
  }
 },
 "nbformat": 4,
 "nbformat_minor": 5
}
