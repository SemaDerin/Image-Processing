{
 "cells": [
  {
   "cell_type": "code",
   "execution_count": 1,
   "id": "258f6929",
   "metadata": {},
   "outputs": [],
   "source": [
    "import cv2\n",
    "import numpy as np"
   ]
  },
  {
   "cell_type": "code",
   "execution_count": null,
   "id": "dcf9b8c4",
   "metadata": {},
   "outputs": [],
   "source": [
    "img=cv2.imread('foto.png',0)\n",
    "cv2.imshow('Original',img)\n",
    "cv2.waitKey(0)"
   ]
  },
  {
   "cell_type": "code",
   "execution_count": null,
   "id": "bb7948b5",
   "metadata": {},
   "outputs": [],
   "source": [
    "kernel=np.ones((5,5),dtype=np.uint8)"
   ]
  },
  {
   "cell_type": "code",
   "execution_count": null,
   "id": "4abedbab",
   "metadata": {},
   "outputs": [],
   "source": [
    "blackNoise=np.random.randint(0,2,size=img.shape[:2])\n",
    "blackNoise= blackNoise*-255\n",
    "noise_img= blackNoise+img\n",
    "noise_img[noise_img<=-255]= 0"
   ]
  },
  {
   "cell_type": "code",
   "execution_count": null,
   "id": "d13ad352",
   "metadata": {},
   "outputs": [],
   "source": [
    "closing= cv2.morphologyEx(noise_img.astype(np.float32),cv2.MORPH_CLOSE,kernel)\n",
    "cv2.imhow('Closing',closing)\n",
    "cv2.waitKey(0)"
   ]
  },
  {
   "cell_type": "code",
   "execution_count": null,
   "id": "1db8ced2",
   "metadata": {},
   "outputs": [],
   "source": []
  }
 ],
 "metadata": {
  "kernelspec": {
   "display_name": "Python 3 (ipykernel)",
   "language": "python",
   "name": "python3"
  },
  "language_info": {
   "codemirror_mode": {
    "name": "ipython",
    "version": 3
   },
   "file_extension": ".py",
   "mimetype": "text/x-python",
   "name": "python",
   "nbconvert_exporter": "python",
   "pygments_lexer": "ipython3",
   "version": "3.9.7"
  }
 },
 "nbformat": 4,
 "nbformat_minor": 5
}
