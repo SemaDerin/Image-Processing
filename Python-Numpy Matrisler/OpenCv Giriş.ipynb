{
 "cells": [
  {
   "cell_type": "markdown",
   "id": "e19b79ed",
   "metadata": {},
   "source": [
    "# OpenCv Kodları \n"
   ]
  },
  {
   "cell_type": "code",
   "execution_count": 1,
   "id": "e13f14b5",
   "metadata": {},
   "outputs": [],
   "source": [
    "import cv2"
   ]
  },
  {
   "cell_type": "code",
   "execution_count": 2,
   "id": "8ff90498",
   "metadata": {},
   "outputs": [],
   "source": [
    "#Resimi okutalım istersek ; imread() methodu kullanacağız!\n",
    "resim1= cv2.imread(\"image.jpg\")"
   ]
  },
  {
   "cell_type": "code",
   "execution_count": 3,
   "id": "054d197f",
   "metadata": {},
   "outputs": [],
   "source": [
    "#Resimi iki kanallı hale getirelim( grileştirme )\n",
    "resim1= cv2.imread(\"image.jpg\", 0)"
   ]
  },
  {
   "cell_type": "code",
   "execution_count": 4,
   "id": "4bf7db87",
   "metadata": {},
   "outputs": [],
   "source": [
    "#Görselleştirmek istersek imshow() methodunu kullanıyoruz!\n",
    "cv2.imshow(\"Newyork City\",resim1)"
   ]
  },
  {
   "cell_type": "code",
   "execution_count": 5,
   "id": "47b6b8dc",
   "metadata": {},
   "outputs": [
    {
     "name": "stdout",
     "output_type": "stream",
     "text": [
      "960000\n"
     ]
    }
   ],
   "source": [
    "#Resmin boyutunu görelim\n",
    "print(resim1.size)"
   ]
  },
  {
   "cell_type": "code",
   "execution_count": 6,
   "id": "6318297c",
   "metadata": {},
   "outputs": [
    {
     "name": "stdout",
     "output_type": "stream",
     "text": [
      "uint8\n"
     ]
    }
   ],
   "source": [
    "#Resimin tipini öğrenelim\n",
    "print(resim1.dtype)\n"
   ]
  },
  {
   "cell_type": "code",
   "execution_count": 7,
   "id": "028479d6",
   "metadata": {},
   "outputs": [
    {
     "name": "stdout",
     "output_type": "stream",
     "text": [
      "(800, 1200)\n"
     ]
    }
   ],
   "source": [
    "#Resimin genişliğini, yüksekliğini ve kaç kanaldan oluştuğunu öğrenelim\n",
    "print(resim1.shape)\n"
   ]
  },
  {
   "cell_type": "code",
   "execution_count": 8,
   "id": "38f01e0a",
   "metadata": {},
   "outputs": [],
   "source": [
    "cv2.waitKey(0) \n",
    "cv2.destroyAllWindows()"
   ]
  },
  {
   "cell_type": "code",
   "execution_count": null,
   "id": "2ffdd0da",
   "metadata": {},
   "outputs": [],
   "source": []
  }
 ],
 "metadata": {
  "kernelspec": {
   "display_name": "Python 3 (ipykernel)",
   "language": "python",
   "name": "python3"
  },
  "language_info": {
   "codemirror_mode": {
    "name": "ipython",
    "version": 3
   },
   "file_extension": ".py",
   "mimetype": "text/x-python",
   "name": "python",
   "nbconvert_exporter": "python",
   "pygments_lexer": "ipython3",
   "version": "3.9.7"
  }
 },
 "nbformat": 4,
 "nbformat_minor": 5
}
