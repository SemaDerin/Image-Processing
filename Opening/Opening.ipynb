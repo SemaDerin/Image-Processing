{
 "cells": [
  {
   "cell_type": "code",
   "execution_count": 7,
   "id": "264aade4",
   "metadata": {},
   "outputs": [],
   "source": [
    "import cv2\n",
    "import numpy as np"
   ]
  },
  {
   "cell_type": "code",
   "execution_count": null,
   "id": "3db1766c",
   "metadata": {},
   "outputs": [],
   "source": [
    "img= cv2.imread('foto.png',0)\n",
    "cv2.imshow('Original',img)\n",
    "cv2.waitKey(0)"
   ]
  },
  {
   "cell_type": "code",
   "execution_count": null,
   "id": "c123570a",
   "metadata": {},
   "outputs": [],
   "source": [
    "kernel= np.ones((5,5),dtype=np.uint8)"
   ]
  },
  {
   "cell_type": "code",
   "execution_count": null,
   "id": "cf7ae1bc",
   "metadata": {},
   "outputs": [],
   "source": [
    "whiteNoise= np.random.randint(0,2, size=img.shape[:2])"
   ]
  },
  {
   "cell_type": "code",
   "execution_count": null,
   "id": "d4b41282",
   "metadata": {},
   "outputs": [],
   "source": [
    "whiteNoise= whiteNoise*255"
   ]
  },
  {
   "cell_type": "code",
   "execution_count": null,
   "id": "b65952ae",
   "metadata": {},
   "outputs": [],
   "source": [
    "noise_img= whiteNoise + img"
   ]
  },
  {
   "cell_type": "code",
   "execution_count": null,
   "id": "47a97605",
   "metadata": {},
   "outputs": [],
   "source": [
    "opening= cv2.morphologyEx(noise_img.astype(np.float32),cv2.MORPH_OPEN,kernel)"
   ]
  },
  {
   "cell_type": "code",
   "execution_count": null,
   "id": "1848f61f",
   "metadata": {},
   "outputs": [],
   "source": [
    "cv2.imshow('opening',opening)"
   ]
  },
  {
   "cell_type": "code",
   "execution_count": null,
   "id": "57d785c0",
   "metadata": {},
   "outputs": [],
   "source": [
    "cv2.waitKey(0)"
   ]
  }
 ],
 "metadata": {
  "kernelspec": {
   "display_name": "Python 3 (ipykernel)",
   "language": "python",
   "name": "python3"
  },
  "language_info": {
   "codemirror_mode": {
    "name": "ipython",
    "version": 3
   },
   "file_extension": ".py",
   "mimetype": "text/x-python",
   "name": "python",
   "nbconvert_exporter": "python",
   "pygments_lexer": "ipython3",
   "version": "3.9.7"
  }
 },
 "nbformat": 4,
 "nbformat_minor": 5
}
