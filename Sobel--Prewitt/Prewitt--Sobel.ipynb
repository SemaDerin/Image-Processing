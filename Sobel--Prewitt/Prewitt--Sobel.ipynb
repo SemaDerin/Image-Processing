{
 "cells": [
  {
   "cell_type": "code",
   "execution_count": 1,
   "id": "14d98de2",
   "metadata": {},
   "outputs": [],
   "source": [
    "import cv2\n",
    "import numpy as np\n"
   ]
  },
  {
   "cell_type": "code",
   "execution_count": 2,
   "id": "70d3406f",
   "metadata": {},
   "outputs": [],
   "source": [
    "img= cv2.imread(\"image.jpg\")\n",
    "gray= cv2.cvtColor(img,cv2.COLOR_BGR2GRAY)\n",
    "img_gaussian= cv2.GaussianBlur(gray,(3,3),0)"
   ]
  },
  {
   "cell_type": "code",
   "execution_count": 3,
   "id": "b5bec411",
   "metadata": {},
   "outputs": [],
   "source": [
    "#Sobel\n",
    "img_sobelx= cv2.Sobel(img_gaussian, cv2.CV_8U,1,0,ksize=5)\n",
    "img_sobely= cv2.Sobel(img_gaussian, cv2.CV_8U,0,1,ksize=5)\n",
    "img_sobel= img_sobelx+img_sobely"
   ]
  },
  {
   "cell_type": "code",
   "execution_count": 4,
   "id": "a7a206f4",
   "metadata": {},
   "outputs": [],
   "source": [
    "kernelx= np.array([[1,1,1],[0,0,0],[-1,-1,-1]])\n",
    "kernely= np.array([[-1,0,1],[-1,0,1],[-1,0,1]])\n",
    "img_prewittx=cv2.filter2D(img_gaussian, -1,kernelx)\n",
    "img_prewitty=cv2.filter2D(img_gaussian, -1,kernely)\n",
    "img_prewitt=img_prewittx+img_prewitty\n"
   ]
  },
  {
   "cell_type": "code",
   "execution_count": null,
   "id": "401b5d80",
   "metadata": {},
   "outputs": [],
   "source": [
    "cv2.imshow(\"original ımage\", img)\n",
    "cv2.imshow(\"Sobel\",img_sobel)\n",
    "cv2.imsshow(\"prewitt\",img_prewitt)\n",
    "\n",
    "cv2.waitKey(0)\n"
   ]
  }
 ],
 "metadata": {
  "kernelspec": {
   "display_name": "Python 3 (ipykernel)",
   "language": "python",
   "name": "python3"
  },
  "language_info": {
   "codemirror_mode": {
    "name": "ipython",
    "version": 3
   },
   "file_extension": ".py",
   "mimetype": "text/x-python",
   "name": "python",
   "nbconvert_exporter": "python",
   "pygments_lexer": "ipython3",
   "version": "3.9.7"
  }
 },
 "nbformat": 4,
 "nbformat_minor": 5
}
