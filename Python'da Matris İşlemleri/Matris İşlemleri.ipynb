{
 "cells": [
  {
   "cell_type": "markdown",
   "id": "e5c587fd",
   "metadata": {},
   "source": [
    "\n",
    "\n"
   ]
  },
  {
   "cell_type": "markdown",
   "id": "ffa56b81",
   "metadata": {},
   "source": [
    "#  Görüntü İşleme Dersi İçin Python'da Matrisler\n"
   ]
  },
  {
   "cell_type": "code",
   "execution_count": 2,
   "id": "0b9d7f05",
   "metadata": {},
   "outputs": [],
   "source": [
    "#Bilindiği üzere Numpy Kütüphanesi sayısal işlemler için kullanılır\n",
    "\n",
    "import numpy as np"
   ]
  },
  {
   "cell_type": "code",
   "execution_count": 4,
   "id": "806b0d0d",
   "metadata": {},
   "outputs": [],
   "source": [
    "A= [[1,4,5],\n",
    "   [-5,8,9],\n",
    "   [6,8,10],   #Görüldüğü gibi bir marisin elemanlarını elimizle girebiliriz!\n",
    "   [0,2,38]]"
   ]
  },
  {
   "cell_type": "code",
   "execution_count": 5,
   "id": "07f222fd",
   "metadata": {},
   "outputs": [
    {
     "name": "stdout",
     "output_type": "stream",
     "text": [
      "A=  [[1, 4, 5], [-5, 8, 9], [6, 8, 10], [0, 2, 38]]\n"
     ]
    }
   ],
   "source": [
    "print(\"A= \",A) #A matrisini yazdırmak istersek"
   ]
  },
  {
   "cell_type": "code",
   "execution_count": 9,
   "id": "a9231767",
   "metadata": {},
   "outputs": [
    {
     "name": "stdout",
     "output_type": "stream",
     "text": [
      "A[0] [1, 4, 5]\n"
     ]
    }
   ],
   "source": [
    "print(\"A[0]\", A[0]) #indekslere numaralarını girebiliriz ve istediğimiz satırları ekrana yazdırabiliriz!"
   ]
  },
  {
   "cell_type": "code",
   "execution_count": 10,
   "id": "3260904f",
   "metadata": {},
   "outputs": [
    {
     "name": "stdout",
     "output_type": "stream",
     "text": [
      "A[1] [-5, 8, 9]\n"
     ]
    }
   ],
   "source": [
    "print(\"A[1]\", A[1])"
   ]
  },
  {
   "cell_type": "code",
   "execution_count": 11,
   "id": "f7aa28da",
   "metadata": {},
   "outputs": [
    {
     "name": "stdout",
     "output_type": "stream",
     "text": [
      "A[2] [6, 8, 10]\n"
     ]
    }
   ],
   "source": [
    "print(\"A[2]\", A[2])"
   ]
  },
  {
   "cell_type": "code",
   "execution_count": 12,
   "id": "29cb7274",
   "metadata": {},
   "outputs": [
    {
     "name": "stdout",
     "output_type": "stream",
     "text": [
      "A[3] [0, 2, 38]\n"
     ]
    }
   ],
   "source": [
    "print(\"A[3]\", A[3])"
   ]
  },
  {
   "cell_type": "code",
   "execution_count": 14,
   "id": "e0812a2c",
   "metadata": {},
   "outputs": [
    {
     "name": "stdout",
     "output_type": "stream",
     "text": [
      "A[1][2] = 9\n"
     ]
    }
   ],
   "source": [
    "print(\"A[1][2] =\", A[1][2]) #Görüldüğü üzere satırlardaki istediğimiz elemanı da bu formatta yazdırabiliriz!"
   ]
  },
  {
   "cell_type": "code",
   "execution_count": 15,
   "id": "a89321ac",
   "metadata": {},
   "outputs": [],
   "source": [
    "# Numpy da Array oluşturmak istersek:\n"
   ]
  },
  {
   "cell_type": "code",
   "execution_count": 18,
   "id": "f2ff548a",
   "metadata": {},
   "outputs": [
    {
     "data": {
      "text/plain": [
       "array([[ 1,  7,  9],\n",
       "       [-9,  7,  2],\n",
       "       [ 6,  7,  2],\n",
       "       [10,  3, -4]])"
      ]
     },
     "execution_count": 18,
     "metadata": {},
     "output_type": "execute_result"
    }
   ],
   "source": [
    "a= np.array([[1,7,9],\n",
    "            [-9,7,2],\n",
    "            [6,7,2],\n",
    "           [10,3,-4]])\n",
    "a"
   ]
  },
  {
   "cell_type": "code",
   "execution_count": 19,
   "id": "dd135f3a",
   "metadata": {},
   "outputs": [
    {
     "name": "stdout",
     "output_type": "stream",
     "text": [
      "type: <class 'numpy.ndarray'>\n"
     ]
    }
   ],
   "source": [
    "#Python da bir klasiktir. Değişkenimizin tipine bakalım\n",
    "print(\"type:\", type(a))"
   ]
  },
  {
   "cell_type": "code",
   "execution_count": 20,
   "id": "ade3e17a",
   "metadata": {},
   "outputs": [
    {
     "name": "stdout",
     "output_type": "stream",
     "text": [
      "a = \n",
      " [[ 1  7  9]\n",
      " [-9  7  2]\n",
      " [ 6  7  2]\n",
      " [10  3 -4]] \n",
      "\n"
     ]
    }
   ],
   "source": [
    "print(\"a =\",\"\\n\", a, \"\\n\") "
   ]
  },
  {
   "cell_type": "code",
   "execution_count": 21,
   "id": "195de9c1",
   "metadata": {},
   "outputs": [
    {
     "name": "stdout",
     "output_type": "stream",
     "text": [
      "[[ 1  7  9]\n",
      " [-9  7  2]\n",
      " [ 6  7  2]\n",
      " [10  3 -4]]\n"
     ]
    }
   ],
   "source": [
    "print(a)"
   ]
  },
  {
   "cell_type": "code",
   "execution_count": 22,
   "id": "e5764ef0",
   "metadata": {},
   "outputs": [
    {
     "name": "stdout",
     "output_type": "stream",
     "text": [
      "a[1]=  [-9  7  2]\n"
     ]
    }
   ],
   "source": [
    "#aynı şekilde satırları ve istediğimiz elemanları yazdırmak istersek \n",
    "\n",
    "print(\"a[1]= \", a[1])"
   ]
  },
  {
   "cell_type": "code",
   "execution_count": 24,
   "id": "20eb043a",
   "metadata": {},
   "outputs": [
    {
     "name": "stdout",
     "output_type": "stream",
     "text": [
      "a[1][2]=  2\n"
     ]
    }
   ],
   "source": [
    "#ikinci bir index numarasıyla istenilen bir eleman yazdıralım\n",
    "\n",
    "print(\"a[1][2]= \", a[1][2])"
   ]
  },
  {
   "cell_type": "code",
   "execution_count": 29,
   "id": "ab8cade0",
   "metadata": {},
   "outputs": [
    {
     "name": "stdout",
     "output_type": "stream",
     "text": [
      "    1\n",
      "    7\n",
      "    9\n",
      "   -9\n",
      "    7\n",
      "    2\n",
      "    6\n",
      "    7\n",
      "    2\n",
      "   10\n",
      "    3\n",
      "   -4\n"
     ]
    }
   ],
   "source": [
    "# for döngüsü yardımıyla a matrisini yazdırmak istersek\n",
    "\n",
    "for i in a:\n",
    "    for j in i:\n",
    "        print(\"{:>5}\".format(j),end=\"\")\n",
    "        print()"
   ]
  },
  {
   "cell_type": "code",
   "execution_count": 30,
   "id": "25f07396",
   "metadata": {},
   "outputs": [],
   "source": [
    "# MATRİS TÜRLERİ \n",
    "#farklı matris çeşitleri bulunmaktadır. Kare matris (satır ve sütun sayısı birbirine eşit)"
   ]
  },
  {
   "cell_type": "code",
   "execution_count": 33,
   "id": "960e53c7",
   "metadata": {},
   "outputs": [
    {
     "data": {
      "text/plain": [
       "array([[0, 1, 2],\n",
       "       [3, 4, 5],\n",
       "       [6, 7, 8]])"
      ]
     },
     "execution_count": 33,
     "metadata": {},
     "output_type": "execute_result"
    }
   ],
   "source": [
    "np.array(range(9)).reshape(3,3) #range ve reshape methodları beraber kulalnılarak belirlediğimiz aralıkta belirlediğimiz ölçüde\n",
    "                                #matris oluşturabiliriz..3x3 kare matrisssss"
   ]
  },
  {
   "cell_type": "code",
   "execution_count": 35,
   "id": "ff7e2786",
   "metadata": {},
   "outputs": [
    {
     "data": {
      "text/plain": [
       "array([[0., 0., 0., 0., 0., 0.],\n",
       "       [0., 0., 0., 0., 0., 0.],\n",
       "       [0., 0., 0., 0., 0., 0.],\n",
       "       [0., 0., 0., 0., 0., 0.],\n",
       "       [0., 0., 0., 0., 0., 0.],\n",
       "       [0., 0., 0., 0., 0., 0.]])"
      ]
     },
     "execution_count": 35,
     "metadata": {},
     "output_type": "execute_result"
    }
   ],
   "source": [
    "#sıfır matrisin tüm elemanlarının sıfır olduğu bir matris zeros() methoduyla\n",
    "\n",
    "np.zeros((6,6))"
   ]
  },
  {
   "cell_type": "code",
   "execution_count": 37,
   "id": "59cd2a89",
   "metadata": {},
   "outputs": [
    {
     "data": {
      "text/plain": [
       "array([[0, 0, 0, 0, 0, 0],\n",
       "       [0, 0, 0, 0, 0, 0],\n",
       "       [0, 0, 0, 0, 0, 0],\n",
       "       [0, 0, 0, 0, 0, 0],\n",
       "       [0, 0, 0, 0, 0, 0],\n",
       "       [0, 0, 0, 0, 0, 0]])"
      ]
     },
     "execution_count": 37,
     "metadata": {},
     "output_type": "execute_result"
    }
   ],
   "source": [
    "np.zeros((6,6),dtype=\"int\")"
   ]
  },
  {
   "cell_type": "code",
   "execution_count": 45,
   "id": "b109d200",
   "metadata": {},
   "outputs": [
    {
     "name": "stdout",
     "output_type": "stream",
     "text": [
      "[[1 7 9]]\n",
      "shape:  (1, 3)\n"
     ]
    }
   ],
   "source": [
    "#sadece bir tane satırı olana satır matrisi , tek bir sütunu olan ise sütun matrisi denir\n",
    "print(np.array([[1,7,9]]))\n",
    "print(\"shape: \", np.array([[1,7,9]]).shape) ##Satır matrisi: 1x3 boyutlu, satır sayısı 1"
   ]
  },
  {
   "cell_type": "code",
   "execution_count": 46,
   "id": "482152b3",
   "metadata": {},
   "outputs": [
    {
     "name": "stdout",
     "output_type": "stream",
     "text": [
      "[[1]\n",
      " [7]\n",
      " [9]]\n",
      "shape:  (1, 3)\n"
     ]
    }
   ],
   "source": [
    "print(np.array([[1],[7],[9]]))\n",
    "print(\"shape: \", np.array([[1,7,9]]).shape) ##Satır matrisi: 1x3 boyutlu, satır sayısı 1"
   ]
  },
  {
   "cell_type": "code",
   "execution_count": 48,
   "id": "3c6f7972",
   "metadata": {},
   "outputs": [
    {
     "data": {
      "text/plain": [
       "array([[ 1,  0,  0,  0,  0],\n",
       "       [ 0,  7,  0,  0,  0],\n",
       "       [ 0,  0, 13,  0,  0],\n",
       "       [ 0,  0,  0, 19,  0],\n",
       "       [ 0,  0,  0,  0, 25]])"
      ]
     },
     "execution_count": 48,
     "metadata": {},
     "output_type": "execute_result"
    }
   ],
   "source": [
    "#Köşegen elemanları dışındaki tüm elemanları 0 olan matris ise köşegen matris olarak bilinir. \n",
    "#Sadece kare matrisler, köşegen matris olabilir. (köşegen en. diagonal ;)\n",
    "np.diag(np.diag(np.array(range(1,26)).reshape(5,5)))\n"
   ]
  },
  {
   "cell_type": "code",
   "execution_count": 49,
   "id": "1328949e",
   "metadata": {},
   "outputs": [
    {
     "data": {
      "text/plain": [
       "array([[1, 0, 0, 0, 0, 0, 0],\n",
       "       [0, 1, 0, 0, 0, 0, 0],\n",
       "       [0, 0, 1, 0, 0, 0, 0],\n",
       "       [0, 0, 0, 1, 0, 0, 0],\n",
       "       [0, 0, 0, 0, 1, 0, 0],\n",
       "       [0, 0, 0, 0, 0, 1, 0],\n",
       "       [0, 0, 0, 0, 0, 0, 1]])"
      ]
     },
     "execution_count": 49,
     "metadata": {},
     "output_type": "execute_result"
    }
   ],
   "source": [
    "#Matris kare iken (yani n=p iken), köşegen elemanların 1 kalan elemanların \n",
    "#0 olduğu matris ise birim matristir. (birim matris I ile gösterilir mat)\n",
    "\n",
    "np.identity(7, dtype=\"int\")"
   ]
  },
  {
   "cell_type": "code",
   "execution_count": 50,
   "id": "0394e181",
   "metadata": {},
   "outputs": [
    {
     "data": {
      "text/plain": [
       "array([[30,  0,  0,  0,  0,  0,  0],\n",
       "       [ 0, 30,  0,  0,  0,  0,  0],\n",
       "       [ 0,  0, 30,  0,  0,  0,  0],\n",
       "       [ 0,  0,  0, 30,  0,  0,  0],\n",
       "       [ 0,  0,  0,  0, 30,  0,  0],\n",
       "       [ 0,  0,  0,  0,  0, 30,  0],\n",
       "       [ 0,  0,  0,  0,  0,  0, 30]])"
      ]
     },
     "execution_count": 50,
     "metadata": {},
     "output_type": "execute_result"
    }
   ],
   "source": [
    "#Esas köşegen üzerindeki elemanları aynı olup kalan elemanları 0 olan matris ise skaler \n",
    "#matris olarak isimlendirilir. Birim matrisin bir skaler ile çarpılması sonucu elde edilir.\n",
    "np.identity(7, dtype=\"int\")*30\n"
   ]
  },
  {
   "cell_type": "code",
   "execution_count": 51,
   "id": "2184686d",
   "metadata": {},
   "outputs": [
    {
     "data": {
      "text/plain": [
       "array([[ 0,  1],\n",
       "       [ 2,  3],\n",
       "       [ 4,  5],\n",
       "       [ 6,  7],\n",
       "       [ 8,  9],\n",
       "       [10, 11]])"
      ]
     },
     "execution_count": 51,
     "metadata": {},
     "output_type": "execute_result"
    }
   ],
   "source": [
    "#Matrislerde işlemlerde en önemlisi TRANSPOZE işlemi .T yeterlidir\n",
    "\n",
    "X= np.array(range(12)).reshape(6,2) #6x2 lik bir matris\n",
    "X\n",
    " \n"
   ]
  },
  {
   "cell_type": "code",
   "execution_count": 52,
   "id": "10eb2f64",
   "metadata": {},
   "outputs": [
    {
     "data": {
      "text/plain": [
       "array([[ 0,  2,  4,  6,  8, 10],\n",
       "       [ 1,  3,  5,  7,  9, 11]])"
      ]
     },
     "execution_count": 52,
     "metadata": {},
     "output_type": "execute_result"
    }
   ],
   "source": [
    "#Transpoze işlemi \n",
    "X.T"
   ]
  },
  {
   "cell_type": "code",
   "execution_count": 54,
   "id": "244e9571",
   "metadata": {},
   "outputs": [
    {
     "data": {
      "text/plain": [
       "array([[ 0,  1,  2],\n",
       "       [ 3,  4,  5],\n",
       "       [ 6,  7,  8],\n",
       "       [ 9, 10, 11]])"
      ]
     },
     "execution_count": 54,
     "metadata": {},
     "output_type": "execute_result"
    }
   ],
   "source": [
    "#Traspoze işlemini açmak istersem satırların sütun olması ve sütunların satır olması.Döngü ile yapalım\n",
    "X= np.array(range(12)).reshape(4,3) #4x3 lük bir matris oluşturduk\n",
    "X"
   ]
  },
  {
   "cell_type": "code",
   "execution_count": 55,
   "id": "408625e5",
   "metadata": {},
   "outputs": [],
   "source": [
    "zeros= np.zeros((3,4), dtype=\"int\") #3x4 lük matris oluşturduk, x'in transpozunu buraya ekleyeceğiz\n"
   ]
  },
  {
   "cell_type": "code",
   "execution_count": 57,
   "id": "a59836ee",
   "metadata": {},
   "outputs": [
    {
     "name": "stdout",
     "output_type": "stream",
     "text": [
      "[[ 0  3  6  9]\n",
      " [ 1  4  7 10]\n",
      " [ 2  5  8 11]]\n"
     ]
    }
   ],
   "source": [
    "for i in range(len(X)):\n",
    "    for j in range(len(X[0])):\n",
    "        zeros[j][i]=X[i][j]\n",
    "        \n",
    "\n",
    "print(zeros)"
   ]
  },
  {
   "cell_type": "code",
   "execution_count": 58,
   "id": "86f55de9",
   "metadata": {},
   "outputs": [
    {
     "data": {
      "text/plain": [
       "array([[ 0,  1,  2],\n",
       "       [ 3,  4,  5],\n",
       "       [ 6,  7,  8],\n",
       "       [ 9, 10, 11]])"
      ]
     },
     "execution_count": 58,
     "metadata": {},
     "output_type": "execute_result"
    }
   ],
   "source": [
    "#List comprehension ile devrik matris oluşturma\n",
    "X= np.array(range(12)).reshape(4,3) #4x3 lük bir matris oluşturduk\n",
    "X"
   ]
  },
  {
   "cell_type": "code",
   "execution_count": 59,
   "id": "ecfe3ed3",
   "metadata": {},
   "outputs": [],
   "source": [
    "zeros= np.zeros((3,4), dtype=\"int\") #3x4 lük matris oluşturduk, x'in transpozunu buraya ekleyeceğiz"
   ]
  },
  {
   "cell_type": "code",
   "execution_count": 65,
   "id": "e6671ab4",
   "metadata": {},
   "outputs": [
    {
     "name": "stdout",
     "output_type": "stream",
     "text": [
      "[0, 3, 6, 9]\n",
      "[1, 4, 7, 10]\n",
      "[2, 5, 8, 11]\n"
     ]
    }
   ],
   "source": [
    "for i in [ [X[i][j] for i in range(len(X))] for j in range(len(X[0]))]:\n",
    "    print(i)"
   ]
  },
  {
   "cell_type": "code",
   "execution_count": 66,
   "id": "e53158b0",
   "metadata": {},
   "outputs": [],
   "source": [
    "# Matrislerde Toplama Ve Çıkarma İşlemleri\n"
   ]
  },
  {
   "cell_type": "code",
   "execution_count": 67,
   "id": "4309f307",
   "metadata": {},
   "outputs": [
    {
     "data": {
      "text/plain": [
       "array([[19,  9,  1],\n",
       "       [ 7,  9, 18],\n",
       "       [11,  2, 11],\n",
       "       [ 2, 11, 17],\n",
       "       [ 2,  5,  9]])"
      ]
     },
     "execution_count": 67,
     "metadata": {},
     "output_type": "execute_result"
    }
   ],
   "source": [
    "#lineer cebirden de hatırlayacağımız gibi toplama ve çıkarma işlemleri için matrislerin aynı boyutta\n",
    "#olması için\n",
    "\n",
    "m1= np.random.randint(20, size=(5,3))\n",
    "m1"
   ]
  },
  {
   "cell_type": "code",
   "execution_count": 68,
   "id": "f38c3a64",
   "metadata": {},
   "outputs": [
    {
     "data": {
      "text/plain": [
       "array([[1, 4, 4],\n",
       "       [4, 2, 4],\n",
       "       [1, 4, 0],\n",
       "       [0, 0, 3],\n",
       "       [2, 4, 3]])"
      ]
     },
     "execution_count": 68,
     "metadata": {},
     "output_type": "execute_result"
    }
   ],
   "source": [
    "m2= np.random.randint(5, size=(5,3))\n",
    "m2"
   ]
  },
  {
   "cell_type": "code",
   "execution_count": 69,
   "id": "a9d9f345",
   "metadata": {},
   "outputs": [
    {
     "data": {
      "text/plain": [
       "array([[20, 13,  5],\n",
       "       [11, 11, 22],\n",
       "       [12,  6, 11],\n",
       "       [ 2, 11, 20],\n",
       "       [ 4,  9, 12]])"
      ]
     },
     "execution_count": 69,
     "metadata": {},
     "output_type": "execute_result"
    }
   ],
   "source": [
    "#toplama:\n",
    "m1+m2"
   ]
  },
  {
   "cell_type": "code",
   "execution_count": 70,
   "id": "f76893b1",
   "metadata": {},
   "outputs": [
    {
     "data": {
      "text/plain": [
       "array([[18,  5, -3],\n",
       "       [ 3,  7, 14],\n",
       "       [10, -2, 11],\n",
       "       [ 2, 11, 14],\n",
       "       [ 0,  1,  6]])"
      ]
     },
     "execution_count": 70,
     "metadata": {},
     "output_type": "execute_result"
    }
   ],
   "source": [
    "#çıkarma:\n",
    "m1-m2"
   ]
  },
  {
   "cell_type": "code",
   "execution_count": 71,
   "id": "6a2c3615",
   "metadata": {},
   "outputs": [
    {
     "data": {
      "text/plain": [
       "array([[1064,  504,   56],\n",
       "       [ 392,  504, 1008],\n",
       "       [ 616,  112,  616],\n",
       "       [ 112,  616,  952],\n",
       "       [ 112,  280,  504]])"
      ]
     },
     "execution_count": 71,
     "metadata": {},
     "output_type": "execute_result"
    }
   ],
   "source": [
    "#Matrislerde çarpma işlemi için Birincinin sütun sayısı ile ikincinin satır sayısı eşit olamlıdır\n",
    "#aynı zamanda sabit sayılarla da çarpılabilir\n",
    "\n",
    "m1*56"
   ]
  },
  {
   "cell_type": "code",
   "execution_count": 73,
   "id": "fc8022af",
   "metadata": {},
   "outputs": [
    {
     "data": {
      "text/plain": [
       "array([[0, 3, 4],\n",
       "       [2, 1, 1],\n",
       "       [3, 2, 2],\n",
       "       [2, 1, 1],\n",
       "       [4, 4, 1]])"
      ]
     },
     "execution_count": 73,
     "metadata": {},
     "output_type": "execute_result"
    }
   ],
   "source": [
    "#matris* matris için\n",
    "\n",
    "a1= np.random.randint(5, size=(5,3))\n",
    "a1"
   ]
  },
  {
   "cell_type": "code",
   "execution_count": 74,
   "id": "e1408956",
   "metadata": {},
   "outputs": [
    {
     "data": {
      "text/plain": [
       "array([[1, 0, 0, 0],\n",
       "       [1, 1, 1, 1],\n",
       "       [1, 0, 0, 0]])"
      ]
     },
     "execution_count": 74,
     "metadata": {},
     "output_type": "execute_result"
    }
   ],
   "source": [
    "a2= np.random.randint(2,size=(3,4))\n",
    "a2\n"
   ]
  },
  {
   "cell_type": "code",
   "execution_count": 77,
   "id": "ceff1f86",
   "metadata": {},
   "outputs": [],
   "source": [
    "result= np.zeros((5,4))"
   ]
  },
  {
   "cell_type": "code",
   "execution_count": 79,
   "id": "22e593be",
   "metadata": {},
   "outputs": [
    {
     "data": {
      "text/plain": [
       "array([[14.,  6.,  6.,  6.],\n",
       "       [ 8.,  2.,  2.,  2.],\n",
       "       [14.,  4.,  4.,  4.],\n",
       "       [ 8.,  2.,  2.,  2.],\n",
       "       [18.,  8.,  8.,  8.]])"
      ]
     },
     "execution_count": 79,
     "metadata": {},
     "output_type": "execute_result"
    }
   ],
   "source": [
    "for i in range(a1.shape[0]):\n",
    "    for j in range(a2.shape[1]):\n",
    "        for k in range(a2.shape[0]):\n",
    "            result[i][j]+= a1[i,k]* a2[k,j]\n",
    "            \n",
    "result"
   ]
  },
  {
   "cell_type": "code",
   "execution_count": null,
   "id": "a7bd3359",
   "metadata": {},
   "outputs": [],
   "source": [
    "#1. Adım: İlk matrisin ilk satırı ile ikinci matrisin ilk sütunu birebir eşlenerek çarpılır, \n",
    "#bu çarpımlar toplanır,sonuç matrisinde result[0][0]’lık kısma yazılır.\n",
    "#2. Adım: İlk matrisin ilk satırı ile ikinci matrisin ikinci sütunu birebir eşlenerek çarpılır,\n",
    "#bu çarpımlar toplanır, sonuç matrisinde result[0][1]’lık kısma yazılır.\n",
    "#3. Adım: İlk matrisin ilk satırı ile ikinci matrisin üçüncü sütunu birebir eşlenerek çarpılır, \n",
    "#bu çarpımlar toplanır,sonuç matrisinde result[0][2]’lık kısma yazılır.\n",
    "#4. Adım: İlk matrisin ilk satırı ile ikinci matrisin dördüncü sütunu birebir eşlenerek çarpılır, \n",
    "#bu çarpımlar toplanır, sonuç matrisinde result[0][3]’lık kısma yazılır.\n",
    "#5. Adım: İlk arrayin ilk satırı için işlemleri tamamlandı. \n",
    "#Bu dört adım ilk arrayin her bir satırı için yapılır.\n"
   ]
  }
 ],
 "metadata": {
  "kernelspec": {
   "display_name": "Python 3 (ipykernel)",
   "language": "python",
   "name": "python3"
  },
  "language_info": {
   "codemirror_mode": {
    "name": "ipython",
    "version": 3
   },
   "file_extension": ".py",
   "mimetype": "text/x-python",
   "name": "python",
   "nbconvert_exporter": "python",
   "pygments_lexer": "ipython3",
   "version": "3.9.7"
  }
 },
 "nbformat": 4,
 "nbformat_minor": 5
}
